{
 "cells": [
  {
   "cell_type": "code",
   "execution_count": 1,
   "metadata": {},
   "outputs": [],
   "source": [
    "import pandas as pd \n",
    "import json \n",
    "import matplotlib\n",
    "import requests\n",
    "import numpy as np\n",
    "from citipy import citipy\n",
    "import time\n",
    "import matplotlib.pyplot as plt"
   ]
  },
  {
   "cell_type": "code",
   "execution_count": 2,
   "metadata": {},
   "outputs": [
    {
     "data": {
      "text/html": [
       "<div>\n",
       "<style scoped>\n",
       "    .dataframe tbody tr th:only-of-type {\n",
       "        vertical-align: middle;\n",
       "    }\n",
       "\n",
       "    .dataframe tbody tr th {\n",
       "        vertical-align: top;\n",
       "    }\n",
       "\n",
       "    .dataframe thead th {\n",
       "        text-align: right;\n",
       "    }\n",
       "</style>\n",
       "<table border=\"1\" class=\"dataframe\">\n",
       "  <thead>\n",
       "    <tr style=\"text-align: right;\">\n",
       "      <th></th>\n",
       "      <th>latitude</th>\n",
       "      <th>longitude</th>\n",
       "    </tr>\n",
       "  </thead>\n",
       "  <tbody>\n",
       "    <tr>\n",
       "      <th>0</th>\n",
       "      <td>-39</td>\n",
       "      <td>136</td>\n",
       "    </tr>\n",
       "    <tr>\n",
       "      <th>1</th>\n",
       "      <td>33</td>\n",
       "      <td>33</td>\n",
       "    </tr>\n",
       "    <tr>\n",
       "      <th>2</th>\n",
       "      <td>42</td>\n",
       "      <td>-40</td>\n",
       "    </tr>\n",
       "    <tr>\n",
       "      <th>3</th>\n",
       "      <td>21</td>\n",
       "      <td>-13</td>\n",
       "    </tr>\n",
       "    <tr>\n",
       "      <th>4</th>\n",
       "      <td>-77</td>\n",
       "      <td>90</td>\n",
       "    </tr>\n",
       "  </tbody>\n",
       "</table>\n",
       "</div>"
      ],
      "text/plain": [
       "   latitude  longitude\n",
       "0       -39        136\n",
       "1        33         33\n",
       "2        42        -40\n",
       "3        21        -13\n",
       "4       -77         90"
      ]
     },
     "execution_count": 2,
     "metadata": {},
     "output_type": "execute_result"
    }
   ],
   "source": [
    "import numpy as np\n",
    "import pandas as pd\n",
    " \n",
    "lats = np.random.randint(-90, 90, size=500)\n",
    "longs = np.random.randint(-180, 180, size=500)\n",
    "coords = pd.DataFrame({\n",
    "    \"latitude\": lats,\n",
    "    \"longitude\": longs\n",
    "})\n",
    "\n",
    "\n",
    "coords.head()"
   ]
  },
  {
   "cell_type": "code",
   "execution_count": 13,
   "metadata": {},
   "outputs": [
    {
     "data": {
      "text/plain": [
       "[{'coord': {'lon': -122, 'lat': 37},\n",
       "  'weather': [{'id': 800,\n",
       "    'main': 'Clear',\n",
       "    'description': 'clear sky',\n",
       "    'icon': '01n'}],\n",
       "  'base': 'stations',\n",
       "  'main': {'temp': 289.87,\n",
       "   'pressure': 1015,\n",
       "   'humidity': 72,\n",
       "   'temp_min': 286.48,\n",
       "   'temp_max': 293.15},\n",
       "  'visibility': 16093,\n",
       "  'wind': {'speed': 3.6, 'deg': 110},\n",
       "  'clouds': {'all': 1},\n",
       "  'dt': 1562122333,\n",
       "  'sys': {'type': 1,\n",
       "   'id': 6269,\n",
       "   'message': 0.0107,\n",
       "   'country': 'US',\n",
       "   'sunrise': 1562071941,\n",
       "   'sunset': 1562124684},\n",
       "  'timezone': -25200,\n",
       "  'id': 5381421,\n",
       "  'name': 'Pasatiempo',\n",
       "  'cod': 200}]"
      ]
     },
     "execution_count": 13,
     "metadata": {},
     "output_type": "execute_result"
    }
   ],
   "source": [
    "API_KEY = \"0a4016e3726b6db2c6c7cf29fe383496\"\n",
    "import requests\n",
    "import time\n",
    "\n",
    "def get_weather_data(coords, time_between=1):\n",
    "    results = []\n",
    "    for ind, row in coords.iterrows():\n",
    "        lat, lon = row['latitude'], row['longitude']\n",
    "        query = f\"http://api.openweathermap.org/data/2.5/weather?lat={lat}&lon={lon}&APPID={API_KEY}\"\n",
    "        clean_url = query.rpartition(\"&\")[0]\n",
    "\n",
    "       \n",
    "        city = citipy.nearest_city(lat, lon)\n",
    "\n",
    "        result = requests.get(query)\n",
    "        results.append(result.json())\n",
    "        time.sleep(time_between)\n",
    "    return results\n",
    "\n",
    "test_coords = pd.DataFrame({\"latitude\": [37], \"longitude\": [-122]})\n",
    "test_results = get_weather_data(test_coords)\n",
    "test_results"
   ]
  },
  {
   "cell_type": "code",
   "execution_count": 14,
   "metadata": {},
   "outputs": [
    {
     "data": {
      "text/plain": [
       "[{'coord': {'lon': 136, 'lat': -39},\n",
       "  'weather': [{'id': 800,\n",
       "    'main': 'Clear',\n",
       "    'description': 'clear sky',\n",
       "    'icon': '01d'}],\n",
       "  'base': 'stations',\n",
       "  'main': {'temp': 285.746,\n",
       "   'pressure': 1031.08,\n",
       "   'humidity': 67,\n",
       "   'temp_min': 285.746,\n",
       "   'temp_max': 285.746,\n",
       "   'sea_level': 1031.08,\n",
       "   'grnd_level': 1031.28},\n",
       "  'wind': {'speed': 1.55, 'deg': 2.813},\n",
       "  'clouds': {'all': 0},\n",
       "  'dt': 1562122795,\n",
       "  'sys': {'message': 0.0073, 'sunrise': 1562105728, 'sunset': 1562139863},\n",
       "  'timezone': 32400,\n",
       "  'id': 0,\n",
       "  'name': '',\n",
       "  'cod': 200},\n",
       " {'coord': {'lon': 33, 'lat': 33},\n",
       "  'weather': [{'id': 800,\n",
       "    'main': 'Clear',\n",
       "    'description': 'clear sky',\n",
       "    'icon': '01d'}],\n",
       "  'base': 'stations',\n",
       "  'main': {'temp': 299.046,\n",
       "   'pressure': 1009.09,\n",
       "   'humidity': 71,\n",
       "   'temp_min': 299.046,\n",
       "   'temp_max': 299.046,\n",
       "   'sea_level': 1009.09,\n",
       "   'grnd_level': 1009.22},\n",
       "  'wind': {'speed': 6.27, 'deg': 315.149},\n",
       "  'clouds': {'all': 0},\n",
       "  'dt': 1562122796,\n",
       "  'sys': {'message': 0.0057, 'sunrise': 1562121811, 'sunset': 1562173226},\n",
       "  'timezone': 7200,\n",
       "  'id': 0,\n",
       "  'name': '',\n",
       "  'cod': 200},\n",
       " {'coord': {'lon': -40, 'lat': 42},\n",
       "  'weather': [{'id': 800,\n",
       "    'main': 'Clear',\n",
       "    'description': 'clear sky',\n",
       "    'icon': '01n'}],\n",
       "  'base': 'stations',\n",
       "  'main': {'temp': 294.746,\n",
       "   'pressure': 1021.73,\n",
       "   'humidity': 93,\n",
       "   'temp_min': 294.746,\n",
       "   'temp_max': 294.746,\n",
       "   'sea_level': 1021.73,\n",
       "   'grnd_level': 1021.68},\n",
       "  'wind': {'speed': 7.28, 'deg': 184.917},\n",
       "  'clouds': {'all': 0},\n",
       "  'dt': 1562122797,\n",
       "  'sys': {'message': 0.0062, 'sunrise': 1562051306, 'sunset': 1562105954},\n",
       "  'timezone': -10800,\n",
       "  'id': 0,\n",
       "  'name': '',\n",
       "  'cod': 200}]"
      ]
     },
     "execution_count": 14,
     "metadata": {},
     "output_type": "execute_result"
    }
   ],
   "source": [
    "full_results= get_weather_data(coords)\n",
    "full_results[:3]"
   ]
  },
  {
   "cell_type": "code",
   "execution_count": 15,
   "metadata": {},
   "outputs": [],
   "source": [
    "import json\n",
    "\n",
    "with open(\"weather.json\", \"w\") as outfile:\n",
    "    json.dump(full_results, outfile)"
   ]
  },
  {
   "cell_type": "code",
   "execution_count": 16,
   "metadata": {},
   "outputs": [],
   "source": [
    "def k_to_f(temp):\n",
    "    \"\"\"Converts a Kelvin temperature to Fahrenheit\"\"\"\n",
    "    return temp * 9/5 - 459.67\n",
    "\n",
    "def mps_to_mph(speed):\n",
    "    \"\"\"Converts a meters/s speed to miles/hour\"\"\"\n",
    "    return speed * 2.23694"
   ]
  },
  {
   "cell_type": "code",
   "execution_count": 17,
   "metadata": {},
   "outputs": [
    {
     "data": {
      "text/html": [
       "<div>\n",
       "<style scoped>\n",
       "    .dataframe tbody tr th:only-of-type {\n",
       "        vertical-align: middle;\n",
       "    }\n",
       "\n",
       "    .dataframe tbody tr th {\n",
       "        vertical-align: top;\n",
       "    }\n",
       "\n",
       "    .dataframe thead th {\n",
       "        text-align: right;\n",
       "    }\n",
       "</style>\n",
       "<table border=\"1\" class=\"dataframe\">\n",
       "  <thead>\n",
       "    <tr style=\"text-align: right;\">\n",
       "      <th></th>\n",
       "      <th>latitude</th>\n",
       "      <th>longitude</th>\n",
       "      <th>temperature</th>\n",
       "      <th>humidity</th>\n",
       "      <th>clouds</th>\n",
       "      <th>wind</th>\n",
       "    </tr>\n",
       "  </thead>\n",
       "  <tbody>\n",
       "    <tr>\n",
       "      <th>0</th>\n",
       "      <td>-39</td>\n",
       "      <td>136</td>\n",
       "      <td>54.6728</td>\n",
       "      <td>67</td>\n",
       "      <td>0</td>\n",
       "      <td>3.467257</td>\n",
       "    </tr>\n",
       "    <tr>\n",
       "      <th>1</th>\n",
       "      <td>33</td>\n",
       "      <td>33</td>\n",
       "      <td>78.6128</td>\n",
       "      <td>71</td>\n",
       "      <td>0</td>\n",
       "      <td>14.025614</td>\n",
       "    </tr>\n",
       "    <tr>\n",
       "      <th>2</th>\n",
       "      <td>42</td>\n",
       "      <td>-40</td>\n",
       "      <td>70.8728</td>\n",
       "      <td>93</td>\n",
       "      <td>0</td>\n",
       "      <td>16.284923</td>\n",
       "    </tr>\n",
       "    <tr>\n",
       "      <th>3</th>\n",
       "      <td>21</td>\n",
       "      <td>-13</td>\n",
       "      <td>87.4328</td>\n",
       "      <td>22</td>\n",
       "      <td>0</td>\n",
       "      <td>18.812665</td>\n",
       "    </tr>\n",
       "    <tr>\n",
       "      <th>4</th>\n",
       "      <td>-77</td>\n",
       "      <td>90</td>\n",
       "      <td>-47.0272</td>\n",
       "      <td>90</td>\n",
       "      <td>100</td>\n",
       "      <td>14.651957</td>\n",
       "    </tr>\n",
       "  </tbody>\n",
       "</table>\n",
       "</div>"
      ],
      "text/plain": [
       "   latitude  longitude  temperature  humidity  clouds       wind\n",
       "0       -39        136      54.6728        67       0   3.467257\n",
       "1        33         33      78.6128        71       0  14.025614\n",
       "2        42        -40      70.8728        93       0  16.284923\n",
       "3        21        -13      87.4328        22       0  18.812665\n",
       "4       -77         90     -47.0272        90     100  14.651957"
      ]
     },
     "execution_count": 17,
     "metadata": {},
     "output_type": "execute_result"
    }
   ],
   "source": [
    "important_json_data = []\n",
    "for point in full_results:\n",
    "    lat = point['coord']['lat']\n",
    "    lon = point['coord']['lon']\n",
    "    temp = k_to_f(point['main']['temp'])\n",
    "    humidity = point['main']['humidity']\n",
    "    cloudiness = point['clouds']['all']\n",
    "    wind = mps_to_mph(point['wind']['speed'])\n",
    "\n",
    "    row = [lat, lon, temp, humidity, cloudiness, wind]\n",
    "    important_json_data.append(row)\n",
    "\n",
    "weather_df = pd.DataFrame(important_json_data)\n",
    "weather_df.columns = [\n",
    "    \"latitude\",\n",
    "    \"longitude\",\n",
    "    \"temperature\",\n",
    "    \"humidity\",\n",
    "    \"clouds\",\n",
    "    \"wind\",\n",
    "]\n",
    "weather_df.head()"
   ]
  },
  {
   "cell_type": "code",
   "execution_count": 18,
   "metadata": {},
   "outputs": [],
   "source": [
    "weather_df.to_csv(\"weather.csv\")"
   ]
  },
  {
   "cell_type": "code",
   "execution_count": 19,
   "metadata": {},
   "outputs": [
    {
     "data": {
      "image/png": "[encoded data removed]",
      "text/plain": [
       "<Figure size 432x288 with 1 Axes>"
      ]
     },
     "metadata": {
      "needs_background": "light"
     },
     "output_type": "display_data"
    }
   ],
   "source": [
    "plt.scatter(weather_df.temperature, weather_df.latitude)\n",
    "plt.xlabel(\"Temperature (F)\")\n",
    "plt.ylabel(\"Latitude (degrees)\")\n",
    "plt.title(\"Temperature vs. Latitude\")\n",
    "plt.show()"
   ]
  },
  {
   "cell_type": "code",
   "execution_count": 20,
   "metadata": {},
   "outputs": [
    {
     "data": {
      "image/png": "[encoded data removed]",
      "text/plain": [
       "<Figure size 432x288 with 1 Axes>"
      ]
     },
     "metadata": {
      "needs_background": "light"
     },
     "output_type": "display_data"
    }
   ],
   "source": [
    "plt.scatter(weather_df.humidity, weather_df.latitude)\n",
    "plt.xlabel(\"Humidity (%)\")\n",
    "plt.ylabel(\"Latitude (degrees)\")\n",
    "plt.title(\"Humidity vs. Latitude\")\n",
    "plt.show()"
   ]
  },
  {
   "cell_type": "code",
   "execution_count": 22,
   "metadata": {},
   "outputs": [
    {
     "data": {
      "image/png": "[encoded data removed]",
      "text/plain": [
       "<Figure size 432x288 with 1 Axes>"
      ]
     },
     "metadata": {
      "needs_background": "light"
     },
     "output_type": "display_data"
    }
   ],
   "source": [
    "plt.scatter(weather_df.clouds, weather_df.latitude)\n",
    "plt.xlabel(\"Cloudiness (%)\")\n",
    "plt.ylabel(\"Latitude (degrees)\")\n",
    "plt.title(\"Cloudiness vs. Latitude\")\n",
    "plt.show()"
   ]
  },
  {
   "cell_type": "code",
   "execution_count": 25,
   "metadata": {},
   "outputs": [
    {
     "data": {
      "image/png": "[encoded data removed]",
      "text/plain": [
       "<Figure size 432x288 with 1 Axes>"
      ]
     },
     "metadata": {
      "needs_background": "light"
     },
     "output_type": "display_data"
    }
   ],
   "source": [
    "plt.scatter(weather_df.wind, weather_df.latitude)\n",
    "plt.xlabel(\"Wind Speed (mph (abs))\")\n",
    "plt.ylabel(\"Latitude (degrees)\")\n",
    "plt.title(\"Wind Speed vs. Latitude\")\n",
    "plt.show()"
   ]
  },
  {
   "cell_type": "code",
   "execution_count": null,
   "metadata": {},
   "outputs": [],
   "source": []
  }
 ],
 "metadata": {
  "kernelspec": {
   "display_name": "Python 3",
   "language": "python",
   "name": "python3"
  },
  "language_info": {
   "codemirror_mode": {
    "name": "ipython",
    "version": 3
   },
   "file_extension": ".py",
   "mimetype": "text/x-python",
   "name": "python",
   "nbconvert_exporter": "python",
   "pygments_lexer": "ipython3",
   "version": "3.7.1"
  }
 },
 "nbformat": 4,
 "nbformat_minor": 2
}
